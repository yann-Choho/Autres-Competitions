{
 "cells": [
  {
   "cell_type": "code",
   "execution_count": 2,
   "metadata": {
    "tags": []
   },
   "outputs": [],
   "source": [
    "import pandas as pd\n",
    "import numpy as np\n",
    "\n"
   ]
  },
  {
   "cell_type": "code",
   "execution_count": 3,
   "metadata": {
    "tags": []
   },
   "outputs": [],
   "source": [
    "df = pd.read_csv(\"datasets/Merged_train_yann.csv\",\n",
    "                 delimiter=\";\").drop(columns=['Unnamed: 0', 'id_product', 'Country', 'Site',\n",
    "                                              'Operations', 'Zone', 'Cluster', 'Reference proxy',\n",
    "                                              'Product  Line proxy', 'Customer Persona proxy',\n",
    "                                              'Strategic Product Family proxy','Year', 'Date'])\n",
    "train_index = df['index'].copy()\n",
    "\n",
    "#df = df.drop(columns=['index'])"
   ]
  },
  {
   "cell_type": "code",
   "execution_count": 5,
   "metadata": {
    "tags": []
   },
   "outputs": [],
   "source": [
    "df['Month 1'] = pd.to_numeric(\n",
    "    df['Month 1'].str.replace(' ', ''), errors='coerce')\n",
    "df['Month 1'] = df['Month 1'].astype(int)\n",
    "df['Month 2'] = pd.to_numeric(\n",
    "    df['Month 2'].str.replace(' ', ''), errors='coerce')\n",
    "df['Month 3'] = pd.to_numeric(\n",
    "    df['Month 3'].str.replace(' ', ''), errors='coerce')\n",
    "df['Month 4'] = pd.to_numeric(\n",
    "    df['Month 4'].str.replace(' ', ''), errors='coerce')\n"
   ]
  },
  {
   "cell_type": "code",
   "execution_count": 6,
   "metadata": {
    "tags": []
   },
   "outputs": [],
   "source": [
    "categorical_columns = df.select_dtypes(include=['object']).columns\n",
    "for column in categorical_columns:\n",
    "    df_dummies = pd.get_dummies(df[column], prefix=column)\n",
    "    df = pd.concat([df, df_dummies], axis=1)\n",
    "    df = df.drop(column, axis=1)\n"
   ]
  },
  {
   "cell_type": "code",
   "execution_count": 7,
   "metadata": {
    "tags": []
   },
   "outputs": [],
   "source": [
    "#stats = np.round((df.isnull().sum() / 1597076)*100, 2)\n",
    "#stats.sort_values(ascending=False)\n"
   ]
  },
  {
   "cell_type": "code",
   "execution_count": 8,
   "metadata": {
    "tags": []
   },
   "outputs": [],
   "source": [
    "#abs(df.corr()['Month 4']).sort_values(ascending=False) > 0.010509"
   ]
  },
  {
   "cell_type": "code",
   "execution_count": 9,
   "metadata": {
    "tags": []
   },
   "outputs": [],
   "source": [
    "df.to_csv('datasets/yann_train_avec_index.csv', sep=';')\n"
   ]
  },
  {
   "cell_type": "code",
   "execution_count": 11,
   "metadata": {
    "tags": []
   },
   "outputs": [
    {
     "data": {
      "text/plain": [
       "index                                                                     0\n",
       "Month 1                                                                   0\n",
       "Month 2                                                                   0\n",
       "Month 3                                                                   0\n",
       "Month 4                                                                   0\n",
       "population (2023)                                                       678\n",
       "netChange                                                               678\n",
       "growthRate                                                              678\n",
       "worldPercentage                                                         678\n",
       "Customs Score                                                          7978\n",
       "Infrastructure Score                                                   7978\n",
       "International Shipments Score                                          7978\n",
       "Logistics Competence and Quality Score                                 7978\n",
       "Timeliness Score                                                       7978\n",
       "Tracking and Tracing Score                                             7978\n",
       "Agriculture, forestry, and fishing, value added (annual % growth)    460635\n",
       "Exports of goods and services (annual % growth)                      577117\n",
       "Final consumption expenditure (annual % growth)                      471647\n",
       "GDP (current US$)                                                    357384\n",
       "Gross capital formation (annual % growth)                            674567\n",
       "Imports of goods and services (annual % growth)                      577117\n",
       "Industry (including construction), value added (annual % growth)     460635\n",
       "Manufacturing, value added (annual % growth)                         575103\n",
       "Services, value added (annual % growth)                              460635\n",
       "Energy Price Index                                                   402804\n",
       "Headline Consumer Price Index                                        395332\n",
       "Region_CHINA                                                              0\n",
       "Region_EAJP                                                               0\n",
       "Region_EUROPE                                                             0\n",
       "Region_NAM                                                                0\n",
       "Division proxy_Division-1                                                 0\n",
       "Division proxy_Division-2                                                 0\n",
       "Division proxy_Division-3                                                 0\n",
       "Product Life cycel status_EOL                                             0\n",
       "Product Life cycel status_NPI                                             0\n",
       "Product Life cycel status_RaMPDOWN                                        0\n",
       "Product Life cycel status_active                                          0\n",
       "Third_T1                                                                  0\n",
       "Third_T2                                                                  0\n",
       "Third_T3                                                                  0\n",
       "dtype: int64"
      ]
     },
     "execution_count": 11,
     "metadata": {},
     "output_type": "execute_result"
    }
   ],
   "source": [
    "df.isna().sum()"
   ]
  },
  {
   "cell_type": "markdown",
   "metadata": {},
   "source": [
    "##################### ------STANDARDISATION ###################\n"
   ]
  },
  {
   "cell_type": "code",
   "execution_count": 17,
   "metadata": {
    "tags": []
   },
   "outputs": [],
   "source": [
    "import pandas as pd\n",
    "from sklearn.preprocessing import StandardScaler\n",
    "\n",
    "\n",
    "indices_X_train = pd.read_csv('datasets/X_train_processed.csv', sep = ';').index\n",
    "\n",
    "\n",
    "not_keep = ['Unnamed: 0', 'Month 4']\n",
    "predictors = [p for p in df.columns if p not in not_keep]\n",
    "df_sans_target = df[predictors]\n",
    "target_column = 'Month 4'\n",
    "y_train = df[target_column].loc[indices_X_train]\n",
    "\n",
    "\n",
    "\n",
    "X_train_apres_transformation = df_sans_target.loc[indices_X_train]\n",
    "\n",
    "\n",
    "#SCALING\n",
    "scaler = StandardScaler()\n",
    "X_train_scaled = pd.DataFrame(scaler.fit_transform(X_train_apres_transformation), columns=X_train_apres_transformation.columns)\n",
    "\n",
    "X_train_scaled_with_y = X_train_scaled.copy()\n",
    "X_train_scaled_with_y[target_column] = y_train\n",
    "\n",
    "#saved file\n",
    "X_train_scaled_with_y.to_csv('datasets/train_post_processed.csv', sep=';')\n"
   ]
  },
  {
   "cell_type": "code",
   "execution_count": 25,
   "metadata": {
    "tags": []
   },
   "outputs": [
    {
     "data": {
      "text/plain": [
       "Index(['Month 1', 'Month 2', 'Month 3', 'Year', 'population (2023)',\n",
       "       'netChange', 'growthRate', 'worldPercentage', 'Customs Score',\n",
       "       'Infrastructure Score', 'International Shipments Score',\n",
       "       'Logistics Competence and Quality Score', 'Timeliness Score',\n",
       "       'Tracking and Tracing Score',\n",
       "       'Agriculture, forestry, and fishing, value added (annual % growth)',\n",
       "       'Exports of goods and services (annual % growth)',\n",
       "       'Final consumption expenditure (annual % growth)', 'GDP (current US$)',\n",
       "       'Gross capital formation (annual % growth)',\n",
       "       'Imports of goods and services (annual % growth)',\n",
       "       'Industry (including construction), value added (annual % growth)',\n",
       "       'Manufacturing, value added (annual % growth)',\n",
       "       'Services, value added (annual % growth)', 'Energy Price Index',\n",
       "       'Headline Consumer Price Index', 'Region_CHINA', 'Region_EAJP',\n",
       "       'Region_EUROPE', 'Region_NAM', 'Division proxy_Division-1',\n",
       "       'Division proxy_Division-2', 'Division proxy_Division-3',\n",
       "       'Product Life cycel status_EOL', 'Product Life cycel status_NPI',\n",
       "       'Product Life cycel status_RaMPDOWN',\n",
       "       'Product Life cycel status_active', 'Third_T1', 'Third_T2', 'Third_T3'],\n",
       "      dtype='object')"
      ]
     },
     "execution_count": 25,
     "metadata": {},
     "output_type": "execute_result"
    }
   ],
   "source": [
    "df_sans_target.columns"
   ]
  },
  {
   "cell_type": "markdown",
   "metadata": {},
   "source": [
    "##################### ------SAVED X_test pour predire ###################\n"
   ]
  },
  {
   "cell_type": "code",
   "execution_count": 21,
   "metadata": {
    "tags": []
   },
   "outputs": [
    {
     "name": "stdout",
     "output_type": "stream",
     "text": [
      "         Month 1   Month 2   Month 3      Year  population (2023)  netChange  \\\n",
      "0      -0.039015 -0.040139 -0.029200 -0.707051          -0.361662  -0.496141   \n",
      "1      -0.039015 -0.038767 -0.029200 -0.707051           3.007613  -0.902692   \n",
      "2      -0.039015 -0.037394 -0.029200 -0.707051          -0.400711  -0.158019   \n",
      "3      -0.039015 -0.040139 -0.029200  1.413428          -0.504366  -0.113741   \n",
      "4      -0.039015 -0.040139 -0.029200 -0.707051          -0.451455  -0.504191   \n",
      "...          ...       ...       ...       ...                ...        ...   \n",
      "440738 -0.029689 -0.036022 -0.011800 -1.767291          -0.544090  -0.367332   \n",
      "440739 -0.036350 -0.040139 -0.027618 -1.767291           0.282642   1.890837   \n",
      "440740 -0.039015 -0.040139 -0.029200  0.353188          -0.422964  -0.665202   \n",
      "440741 -0.039015 -0.040139 -0.029200 -1.767291           0.282642   1.890837   \n",
      "440742 -0.039015 -0.040139 -0.029200 -1.767291           3.007613  -0.902692   \n",
      "\n",
      "        growthRate  worldPercentage  Customs Score  Infrastructure Score  ...  \\\n",
      "0        -0.845656        -0.361913       1.042936              1.482720  ...   \n",
      "1        -0.736562         3.007424      -1.500570              0.229756  ...   \n",
      "2        -0.175505        -0.400086      -0.652735             -1.023207  ...   \n",
      "3         0.853100        -0.504562       0.195100              0.647411  ...   \n",
      "4        -0.830071        -0.452324      -0.228817             -0.605553  ...   \n",
      "...            ...              ...            ...                   ...  ...   \n",
      "440738    0.214118        -0.544745       1.466853              1.065065  ...   \n",
      "440739    0.073854         0.283023       0.195100             -0.187898  ...   \n",
      "440740   -1.141769        -0.422187      -1.076653             -0.605553  ...   \n",
      "440741    0.073854         0.283023       0.195100             -0.187898  ...   \n",
      "440742   -0.736562         3.007424      -1.500570              0.229756  ...   \n",
      "\n",
      "        Division proxy_Division-2  Division proxy_Division-3  \\\n",
      "0                       -0.535893                   0.754817   \n",
      "1                       -0.535893                   0.754817   \n",
      "2                        1.866042                  -1.324825   \n",
      "3                       -0.535893                  -1.324825   \n",
      "4                        1.866042                  -1.324825   \n",
      "...                           ...                        ...   \n",
      "440738                  -0.535893                   0.754817   \n",
      "440739                  -0.535893                   0.754817   \n",
      "440740                  -0.535893                   0.754817   \n",
      "440741                   1.866042                  -1.324825   \n",
      "440742                  -0.535893                   0.754817   \n",
      "\n",
      "        Product Life cycel status_EOL  Product Life cycel status_NPI  \\\n",
      "0                           -0.330955                      -0.190906   \n",
      "1                           -0.330955                      -0.190906   \n",
      "2                           -0.330955                      -0.190906   \n",
      "3                           -0.330955                      -0.190906   \n",
      "4                           -0.330955                      -0.190906   \n",
      "...                               ...                            ...   \n",
      "440738                      -0.330955                      -0.190906   \n",
      "440739                      -0.330955                      -0.190906   \n",
      "440740                      -0.330955                      -0.190906   \n",
      "440741                      -0.330955                       5.238174   \n",
      "440742                      -0.330955                      -0.190906   \n",
      "\n",
      "        Product Life cycel status_RaMPDOWN  Product Life cycel status_active  \\\n",
      "0                                -0.041516                          0.396075   \n",
      "1                                -0.041516                          0.396075   \n",
      "2                                -0.041516                          0.396075   \n",
      "3                                -0.041516                          0.396075   \n",
      "4                                -0.041516                          0.396075   \n",
      "...                                    ...                               ...   \n",
      "440738                           -0.041516                          0.396075   \n",
      "440739                           -0.041516                          0.396075   \n",
      "440740                           -0.041516                          0.396075   \n",
      "440741                           -0.041516                         -2.524773   \n",
      "440742                           -0.041516                          0.396075   \n",
      "\n",
      "        Third_T1  Third_T2  Third_T3    index  \n",
      "0      -0.707340  1.414163 -0.706848   645874  \n",
      "1       1.413747 -0.707132 -0.706848   469488  \n",
      "2       1.413747 -0.707132 -0.706848   348904  \n",
      "3       1.413747 -0.707132 -0.706848  1725822  \n",
      "4       1.413747 -0.707132 -0.706848   404781  \n",
      "...          ...       ...       ...      ...  \n",
      "440738 -0.707340 -0.707132  1.414731   119440  \n",
      "440739 -0.707340 -0.707132  1.414731    52446  \n",
      "440740  1.413747 -0.707132 -0.706848  1104070  \n",
      "440741 -0.707340 -0.707132  1.414731    90731  \n",
      "440742 -0.707340 -0.707132  1.414731   229511  \n",
      "\n",
      "[440743 rows x 40 columns]\n"
     ]
    }
   ],
   "source": [
    "# Étape 1: Sauvegarder les indices de X_test\n",
    "indices_X_test = pd.read_csv('datasets/X_test_processed.csv', sep = ';')['index']\n",
    "\n",
    "X_test_index = pd.read_csv('datasets/X_test_processed.csv', sep = ';')['index']\n",
    "\n",
    "\n",
    "# Étape 3: Utiliser les indices sauvegardés pour retrouver les lignes de X_test\n",
    "X_test_apres_transformation = df_sans_target.loc[indices_X_test]\n",
    "X_test_scaled = pd.DataFrame(scaler.transform(X_test_apres_transformation), columns=X_test_apres_transformation.columns)\n",
    "\n",
    "X_test_scaled['index'] = X_test_index\n",
    "# Affichage du résultat\n",
    "print(X_test_scaled)\n",
    "\n",
    "X_test_scaled.to_csv('datasets/test_post_processed.csv', sep=';')"
   ]
  }
 ],
 "metadata": {
  "kernelspec": {
   "display_name": "Python 3 (ipykernel)",
   "language": "python",
   "name": "python3"
  },
  "language_info": {
   "codemirror_mode": {
    "name": "ipython",
    "version": 3
   },
   "file_extension": ".py",
   "mimetype": "text/x-python",
   "name": "python",
   "nbconvert_exporter": "python",
   "pygments_lexer": "ipython3",
   "version": "3.10.12"
  }
 },
 "nbformat": 4,
 "nbformat_minor": 4
}
