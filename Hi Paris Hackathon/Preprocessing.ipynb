{
 "cells": [
  {
   "cell_type": "markdown",
   "id": "083669de-0fb1-4f90-b27a-544d4e4577fd",
   "metadata": {},
   "source": [
    "# Pre processing of the data\n",
    "## Imports"
   ]
  },
  {
   "cell_type": "code",
   "execution_count": 1,
   "id": "675b29c2-1126-4953-a729-7c99ea35de8e",
   "metadata": {
    "tags": []
   },
   "outputs": [
    {
     "name": "stdout",
     "output_type": "stream",
     "text": [
      "/bin/bash: pip: command not found\n",
      "/bin/bash: pip: command not found\n"
     ]
    }
   ],
   "source": [
    "!pip install - -upgrade pip\n",
    "!pip install pycountry\n"
   ]
  },
  {
   "cell_type": "code",
   "execution_count": 2,
   "id": "3e4facd3-733b-49f8-8d98-83c28a605524",
   "metadata": {
    "tags": []
   },
   "outputs": [],
   "source": [
    "import pandas as pd\n",
    "import numpy as np\n",
    "import pycountry\n",
    "import matplotlib.pyplot as plt\n",
    "import plotly.express as px\n"
   ]
  },
  {
   "cell_type": "code",
   "execution_count": 3,
   "id": "b14942f3-aed9-4f9c-a882-80064f53018b",
   "metadata": {
    "tags": []
   },
   "outputs": [],
   "source": [
    "# df = pd.read_csv(\n",
    "#    'hfactory_magic_folders/groups/14_none_shared_workspace/datasets/train-data.csv', sep=';')\n"
   ]
  },
  {
   "cell_type": "code",
   "execution_count": 4,
   "id": "b372c12b",
   "metadata": {
    "tags": []
   },
   "outputs": [],
   "source": [
    "df = pd.read_csv(\n",
    "    'datasets/train-data.csv', sep=';')"
   ]
  },
  {
   "cell_type": "code",
   "execution_count": 5,
   "id": "46b8fe87-0fc4-46a2-89e3-09fa488f4e41",
   "metadata": {
    "tags": []
   },
   "outputs": [
    {
     "data": {
      "text/html": [
       "<div>\n",
       "<style scoped>\n",
       "    .dataframe tbody tr th:only-of-type {\n",
       "        vertical-align: middle;\n",
       "    }\n",
       "\n",
       "    .dataframe tbody tr th {\n",
       "        vertical-align: top;\n",
       "    }\n",
       "\n",
       "    .dataframe thead th {\n",
       "        text-align: right;\n",
       "    }\n",
       "</style>\n",
       "<table border=\"1\" class=\"dataframe\">\n",
       "  <thead>\n",
       "    <tr style=\"text-align: right;\">\n",
       "      <th></th>\n",
       "      <th>index</th>\n",
       "      <th>id_product</th>\n",
       "      <th>Region</th>\n",
       "      <th>Country</th>\n",
       "      <th>Site</th>\n",
       "      <th>Operations</th>\n",
       "      <th>Zone</th>\n",
       "      <th>Cluster</th>\n",
       "      <th>Reference proxy</th>\n",
       "      <th>Product  Line proxy</th>\n",
       "      <th>Division proxy</th>\n",
       "      <th>Customer Persona proxy</th>\n",
       "      <th>Strategic Product Family proxy</th>\n",
       "      <th>Product Life cycel status</th>\n",
       "      <th>Date</th>\n",
       "      <th>Month 1</th>\n",
       "      <th>Month 2</th>\n",
       "      <th>Month 3</th>\n",
       "      <th>Month 4</th>\n",
       "    </tr>\n",
       "  </thead>\n",
       "  <tbody>\n",
       "    <tr>\n",
       "      <th>0</th>\n",
       "      <td>645874</td>\n",
       "      <td>156160</td>\n",
       "      <td>EUROPE</td>\n",
       "      <td>DE</td>\n",
       "      <td>NL_DC_Venray</td>\n",
       "      <td>Europe Operations</td>\n",
       "      <td>DACH</td>\n",
       "      <td>Germany</td>\n",
       "      <td>reference-13523</td>\n",
       "      <td>Product Line-4</td>\n",
       "      <td>Division-3</td>\n",
       "      <td>Customer Segmentation-3</td>\n",
       "      <td>Strategic Product Family-12</td>\n",
       "      <td>NaN</td>\n",
       "      <td>may-aug 2021</td>\n",
       "      <td>0</td>\n",
       "      <td>0</td>\n",
       "      <td>0</td>\n",
       "      <td>0</td>\n",
       "    </tr>\n",
       "  </tbody>\n",
       "</table>\n",
       "</div>"
      ],
      "text/plain": [
       "    index  id_product  Region Country          Site         Operations  Zone  \\\n",
       "0  645874      156160  EUROPE      DE  NL_DC_Venray  Europe Operations  DACH   \n",
       "\n",
       "   Cluster  Reference proxy Product  Line proxy Division proxy  \\\n",
       "0  Germany  reference-13523      Product Line-4     Division-3   \n",
       "\n",
       "    Customer Persona proxy Strategic Product Family proxy  \\\n",
       "0  Customer Segmentation-3    Strategic Product Family-12   \n",
       "\n",
       "  Product Life cycel status          Date Month 1 Month 2 Month 3 Month 4  \n",
       "0                       NaN  may-aug 2021       0       0       0       0  "
      ]
     },
     "execution_count": 5,
     "metadata": {},
     "output_type": "execute_result"
    }
   ],
   "source": [
    "df.head(1)\n"
   ]
  },
  {
   "cell_type": "markdown",
   "id": "07b6d84e-1bfa-44a7-a0aa-5a9200055894",
   "metadata": {},
   "source": [
    "Let's replace the NaN values in \"Product Life cycel status\" that in reality correspond to the category \"active\" :\n"
   ]
  },
  {
   "cell_type": "code",
   "execution_count": 6,
   "id": "a0a4a9ca-d7e8-478e-9e5b-96b51ff78488",
   "metadata": {
    "tags": []
   },
   "outputs": [],
   "source": [
    "df['Product Life cycel status'] = df['Product Life cycel status'].fillna(\n",
    "    'active')\n"
   ]
  },
  {
   "cell_type": "markdown",
   "id": "25a2c067-7e8b-4f4e-9921-f607989830ff",
   "metadata": {},
   "source": [
    "In order to merge, let's split the \"Date\" column in the train data set into 2 columns : a \"year\" column and a \"Third\" one.\n",
    "There is one observation without date, let's drop it."
   ]
  },
  {
   "cell_type": "code",
   "execution_count": 7,
   "id": "64d1d594-bc99-4164-bb98-7b056867d47a",
   "metadata": {
    "tags": []
   },
   "outputs": [],
   "source": [
    "df = df.dropna(axis=0, subset='Date')\n"
   ]
  },
  {
   "cell_type": "markdown",
   "id": "b4d18468-6c0d-4a9d-99ae-0255a9e18b86",
   "metadata": {},
   "source": [
    "Create a Year column, and then a Third column:"
   ]
  },
  {
   "cell_type": "code",
   "execution_count": 8,
   "id": "98b5a9b8-6af8-4180-a56b-468077429d3a",
   "metadata": {
    "tags": []
   },
   "outputs": [],
   "source": [
    "df['Year'] = df['Date'].str.slice(start=-4).astype(int)\n",
    "\n",
    "df['Third'] = df['Date'].str.slice(\n",
    "    stop=-5).replace({'jan-apr': 'T1', 'sep-dec': 'T3', 'may-aug': 'T2', 'may-jul': 'T2'})\n",
    "\n",
    "# We now rearrange and drop the obsolete 'date' column\n",
    "#df = df.iloc[:, list(range(0, 18)) + [20, 19, 18]].drop(columns=['Date'])\n"
   ]
  },
  {
   "cell_type": "code",
   "execution_count": 9,
   "id": "d75051c2-9beb-4b1e-9785-9fa01995983e",
   "metadata": {
    "tags": []
   },
   "outputs": [
    {
     "data": {
      "text/html": [
       "<div>\n",
       "<style scoped>\n",
       "    .dataframe tbody tr th:only-of-type {\n",
       "        vertical-align: middle;\n",
       "    }\n",
       "\n",
       "    .dataframe tbody tr th {\n",
       "        vertical-align: top;\n",
       "    }\n",
       "\n",
       "    .dataframe thead th {\n",
       "        text-align: right;\n",
       "    }\n",
       "</style>\n",
       "<table border=\"1\" class=\"dataframe\">\n",
       "  <thead>\n",
       "    <tr style=\"text-align: right;\">\n",
       "      <th></th>\n",
       "      <th>index</th>\n",
       "      <th>id_product</th>\n",
       "      <th>Region</th>\n",
       "      <th>Country</th>\n",
       "      <th>Site</th>\n",
       "      <th>Operations</th>\n",
       "      <th>Zone</th>\n",
       "      <th>Cluster</th>\n",
       "      <th>Reference proxy</th>\n",
       "      <th>Product  Line proxy</th>\n",
       "      <th>...</th>\n",
       "      <th>Customer Persona proxy</th>\n",
       "      <th>Strategic Product Family proxy</th>\n",
       "      <th>Product Life cycel status</th>\n",
       "      <th>Date</th>\n",
       "      <th>Month 1</th>\n",
       "      <th>Month 2</th>\n",
       "      <th>Month 3</th>\n",
       "      <th>Month 4</th>\n",
       "      <th>Year</th>\n",
       "      <th>Third</th>\n",
       "    </tr>\n",
       "  </thead>\n",
       "  <tbody>\n",
       "    <tr>\n",
       "      <th>0</th>\n",
       "      <td>645874</td>\n",
       "      <td>156160</td>\n",
       "      <td>EUROPE</td>\n",
       "      <td>DE</td>\n",
       "      <td>NL_DC_Venray</td>\n",
       "      <td>Europe Operations</td>\n",
       "      <td>DACH</td>\n",
       "      <td>Germany</td>\n",
       "      <td>reference-13523</td>\n",
       "      <td>Product Line-4</td>\n",
       "      <td>...</td>\n",
       "      <td>Customer Segmentation-3</td>\n",
       "      <td>Strategic Product Family-12</td>\n",
       "      <td>active</td>\n",
       "      <td>may-aug 2021</td>\n",
       "      <td>0</td>\n",
       "      <td>0</td>\n",
       "      <td>0</td>\n",
       "      <td>0</td>\n",
       "      <td>2021</td>\n",
       "      <td>T2</td>\n",
       "    </tr>\n",
       "  </tbody>\n",
       "</table>\n",
       "<p>1 rows × 21 columns</p>\n",
       "</div>"
      ],
      "text/plain": [
       "    index  id_product  Region Country          Site         Operations  Zone  \\\n",
       "0  645874      156160  EUROPE      DE  NL_DC_Venray  Europe Operations  DACH   \n",
       "\n",
       "   Cluster  Reference proxy Product  Line proxy  ...   Customer Persona proxy  \\\n",
       "0  Germany  reference-13523      Product Line-4  ...  Customer Segmentation-3   \n",
       "\n",
       "  Strategic Product Family proxy Product Life cycel status          Date  \\\n",
       "0    Strategic Product Family-12                    active  may-aug 2021   \n",
       "\n",
       "  Month 1 Month 2 Month 3 Month 4  Year  Third  \n",
       "0       0       0       0       0  2021     T2  \n",
       "\n",
       "[1 rows x 21 columns]"
      ]
     },
     "execution_count": 9,
     "metadata": {},
     "output_type": "execute_result"
    }
   ],
   "source": [
    "df.head(1)\n"
   ]
  },
  {
   "cell_type": "code",
   "execution_count": 10,
   "id": "27378e97-1ed6-4cd3-98b0-70a591692eb6",
   "metadata": {
    "tags": []
   },
   "outputs": [
    {
     "data": {
      "text/plain": [
       "0          DE\n",
       "1          CN\n",
       "2          GB\n",
       "3          AU\n",
       "4          ES\n",
       "           ..\n",
       "1597071    FR\n",
       "1597072    CN\n",
       "1597073    TH\n",
       "1597074    US\n",
       "1597075    FR\n",
       "Name: Country, Length: 1597076, dtype: object"
      ]
     },
     "execution_count": 10,
     "metadata": {},
     "output_type": "execute_result"
    }
   ],
   "source": [
    "df['Country']\n"
   ]
  },
  {
   "cell_type": "markdown",
   "id": "d17161bb-0e03-4e77-bc9f-635f632e0729",
   "metadata": {},
   "source": [
    "We want to join the extra data sets and the main set on countries as well. Let's make sure the ISOs are standards."
   ]
  },
  {
   "cell_type": "code",
   "execution_count": 11,
   "id": "f5dbb1c5-ef7c-4170-bde9-b968c9d26bba",
   "metadata": {
    "tags": []
   },
   "outputs": [],
   "source": [
    "df['Country'] = df['Country'].replace({'Id': 'ID'})\n"
   ]
  },
  {
   "cell_type": "markdown",
   "id": "5792f414-dc72-431f-a69b-363ed64065f0",
   "metadata": {},
   "source": [
    "## Processing of the extra datasets"
   ]
  },
  {
   "cell_type": "code",
   "execution_count": 12,
   "id": "7f5d8cbd-a144-4d0f-b713-5afaa242deca",
   "metadata": {
    "tags": []
   },
   "outputs": [],
   "source": [
    "gscpi_data = pd.read_csv(\n",
    "    \"datasets/extra-dataset/GSCPI_data.csv\")\n",
    "lpi_data = pd.read_csv(\n",
    "    \"datasets/extra-dataset/LPIextend.csv\")\n",
    "economic_data = pd.read_csv(\n",
    "    \"datasets/extra-dataset/worldbank_economic_data.csv\")\n",
    "inflation_data = pd.read_csv(\n",
    "    \"datasets/extra-dataset/worldbank_inflation_data.csv\")\n"
   ]
  },
  {
   "cell_type": "markdown",
   "id": "cbdd54f1-df1e-43f8-8f7e-22d4abdb0e6a",
   "metadata": {},
   "source": [
    "Some of the naming isn't consistent, let's change it (arbitrarly) so no error comes up later."
   ]
  },
  {
   "cell_type": "code",
   "execution_count": 13,
   "id": "e91c7334-9e76-4d4b-a536-9a5d74a1dfaa",
   "metadata": {
    "tags": []
   },
   "outputs": [],
   "source": [
    "d_LPI = {'Taiwan': 'Taiwan, Province of China',\n",
    "         'South Korea': 'Korea, Republic of',\n",
    "         'Vietnam': 'Viet Nam',\n",
    "         'Brunei': 'Brunei Darussalam',\n",
    "         'Lao PDR': \"Lao People's Democratic Republic\"}\n",
    "\n",
    "\n",
    "d_Eco = {'Taiwan, China': 'Taiwan, Province of China',\n",
    "         'Hong Kong SAR, China': 'Hong Kong',\n",
    "         'Korea, Rep.': 'Korea, Republic of',\n",
    "         'Vietnam': 'Viet Nam',\n",
    "         'Lao, PDR': \"Lao People's Democratic Republic\"}\n",
    "\n",
    "\n",
    "d_Inf = {'Taiwan, China': 'Taiwan, Province of China',\n",
    "         'Hong Kong SAR, China': 'Hong Kong',\n",
    "         'Korea, Rep.': 'Korea, Republic of',\n",
    "         'Vietnam': 'Viet Nam',\n",
    "         'Lao, PDR': \"Lao People's Democratic Republic\"}\n",
    "\n",
    "lpi_data['Country'] = lpi_data['Country'].replace(d_LPI)\n",
    "inflation_data['Country'] = inflation_data['Country'].replace(d_Inf)\n",
    "economic_data['Country'] = economic_data['Country'].replace(d_Eco)\n"
   ]
  },
  {
   "cell_type": "markdown",
   "id": "6526055d-559c-45d9-864f-3f9bdd50976e",
   "metadata": {},
   "source": [
    "The goal is now to make sure we have a map between our train set's country codes onto the extra datasets countries."
   ]
  },
  {
   "cell_type": "code",
   "execution_count": 14,
   "id": "c702a548-fd6b-4ad3-8653-2bc6807a6ee9",
   "metadata": {
    "tags": []
   },
   "outputs": [],
   "source": [
    "def split_year_month_column(dataframe, column_name):\n",
    "\n",
    "    if column_name not in dataframe.columns:\n",
    "        raise ValueError(f\"Column '{column_name}' not found in the DataFrame.\")\n",
    "\n",
    "    dataframe[['Year', 'Month']] = dataframe[column_name].str.split(\n",
    "        '-', expand=True)\n",
    "\n",
    "    dataframe['Year'] = pd.to_numeric(dataframe['Year'])\n",
    "    dataframe['Month'] = pd.to_numeric(dataframe['Month'])\n",
    "\n",
    "    month_to_quarter = {1: 'T1', 2: 'T1', 3: 'T1', 4: 'T1',\n",
    "                        5: 'T2', 6: 'T2', 7: 'T2', 8: 'T2',\n",
    "                        9: 'T3', 10: 'T3', 11: 'T3', 12: 'T3'}\n",
    "\n",
    "    dataframe['Third'] = dataframe['Month'].map(month_to_quarter)\n",
    "\n",
    "    return dataframe\n",
    "\n",
    "\n",
    "gscpi_data = split_year_month_column(gscpi_data, \"Year-Month\")\n",
    "inflation_data = split_year_month_column(inflation_data, \"Year-Month\")\n"
   ]
  },
  {
   "cell_type": "code",
   "execution_count": 15,
   "id": "fb2d88a5-b4a8-48d5-886f-2949fab90aea",
   "metadata": {
    "tags": []
   },
   "outputs": [],
   "source": [
    "gscpi_data.drop([\"Year-Month\", \"Month\"], axis=1, inplace=True)\n",
    "inflation_data.drop([\"Year-Month\", \"Month\"], axis=1, inplace=True)\n"
   ]
  },
  {
   "cell_type": "code",
   "execution_count": 16,
   "id": "65b99c50-4633-4909-a2db-66a38d6a145a",
   "metadata": {
    "tags": []
   },
   "outputs": [],
   "source": [
    "def add_iso_country_column(\n",
    "        dataframe,\n",
    "        country_column_name,\n",
    "        iso_column_name='ISO_Code'):\n",
    "\n",
    "    iso_codes = []\n",
    "    for country_name in dataframe[country_column_name]:\n",
    "        try:\n",
    "            country = pycountry.countries.get(name=country_name)\n",
    "            iso_codes.append(country.alpha_2)\n",
    "        except AttributeError:\n",
    "            iso_codes.append(None)\n",
    "\n",
    "    dataframe[iso_column_name] = iso_codes\n",
    "\n",
    "\n",
    "add_iso_country_column(lpi_data, 'Country', 'ISO_Code')\n",
    "add_iso_country_column(inflation_data, 'Country', 'ISO_Code')\n",
    "add_iso_country_column(economic_data, 'Country', 'ISO_Code')\n"
   ]
  },
  {
   "cell_type": "markdown",
   "id": "b2dd2dc1-c27c-4834-87c2-08a5f228c694",
   "metadata": {},
   "source": [
    "## Merger of the data sets\n"
   ]
  },
  {
   "cell_type": "markdown",
   "id": "55753198-8c88-46da-94d9-6ebaf402565c",
   "metadata": {},
   "source": [
    "For the LPI data, we keep most of the quantitative data, excluding the ranks.\n"
   ]
  },
  {
   "cell_type": "code",
   "execution_count": 17,
   "id": "1905ee1f-ddcc-4e90-8115-b0033be0afbc",
   "metadata": {
    "tags": []
   },
   "outputs": [],
   "source": [
    "lpi_data = lpi_data[['population (2023)', 'netChange', 'growthRate', 'worldPercentage',\n",
    "                     'Customs Score', 'Infrastructure Score', 'International Shipments Score',\n",
    "                     'Logistics Competence and Quality Score', 'Timeliness Score',\n",
    "                     'Tracking and Tracing Score', 'ISO_Code']]\n"
   ]
  },
  {
   "cell_type": "code",
   "execution_count": 18,
   "id": "262380c2-bd2c-4ed5-abdf-1ebca7465e66",
   "metadata": {
    "tags": []
   },
   "outputs": [],
   "source": [
    "df = df.join(lpi_data.set_index('ISO_Code'), on='Country', how='left')\n"
   ]
  },
  {
   "cell_type": "markdown",
   "id": "dde40946-8a47-4287-9a29-48594da2b7e2",
   "metadata": {},
   "source": [
    "Let's merge the GSCPI dataset. For simplicity, we compute the mean of the GSCPI for each Third.\n"
   ]
  },
  {
   "cell_type": "code",
   "execution_count": 19,
   "id": "a849cb30-1ec4-4b89-ba81-742f90b69d45",
   "metadata": {
    "tags": []
   },
   "outputs": [],
   "source": [
    "gscpi_data = gscpi_data.groupby(by=[\"Year\", \"Third\"]).mean()\n",
    "merged_df = pd.merge(df, gscpi_data, on=['Year', 'Third'], how='left')\n"
   ]
  },
  {
   "cell_type": "markdown",
   "id": "eb9f262e-6735-41b6-ae71-06e4316d0513",
   "metadata": {},
   "source": [
    "Let's merge the economic data set onto the main dataset:\n"
   ]
  },
  {
   "cell_type": "code",
   "execution_count": 20,
   "id": "48ba1ac6-4948-46ca-80fd-79c6a7df7a1d",
   "metadata": {
    "tags": []
   },
   "outputs": [],
   "source": [
    "economic_data = economic_data.drop(columns=['Country'])\n",
    "\n",
    "economic_data.rename(columns={'ISO_Code': 'Country'}, inplace=True)\n"
   ]
  },
  {
   "cell_type": "code",
   "execution_count": 21,
   "id": "37a66dca-6fc3-439d-b454-8f00114c5058",
   "metadata": {
    "tags": []
   },
   "outputs": [],
   "source": [
    "df = pd.merge(df, economic_data, on=['Year', 'Country'], how='left')\n"
   ]
  },
  {
   "cell_type": "markdown",
   "id": "ca11c64e-e708-4c50-adaa-d9d93f1af2be",
   "metadata": {},
   "source": [
    "Let's do the same with the inflation data"
   ]
  },
  {
   "cell_type": "code",
   "execution_count": 22,
   "id": "9f24480e-7010-435b-8303-099722e25abb",
   "metadata": {
    "tags": []
   },
   "outputs": [],
   "source": [
    "inflation_data = inflation_data.drop(columns=['Country'])\n",
    "\n",
    "inflation_data.rename(columns={'ISO_Code': 'Country'}, inplace=True)\n"
   ]
  },
  {
   "cell_type": "markdown",
   "id": "205416ef-ac14-4725-9ba2-41df6e801c05",
   "metadata": {},
   "source": [
    "Again, we take the mean of the various indices over each third for each country."
   ]
  },
  {
   "cell_type": "code",
   "execution_count": 23,
   "id": "9b17045d-a575-4dca-9d9e-6b1cdcc6dcde",
   "metadata": {
    "tags": []
   },
   "outputs": [],
   "source": [
    "inflation_data = inflation_data.groupby(by=[\"Year\", \"Third\", 'Country']).mean()\n"
   ]
  },
  {
   "cell_type": "code",
   "execution_count": 24,
   "id": "987f9aac-db3c-4ac5-9f86-63b2b24ad77c",
   "metadata": {
    "tags": []
   },
   "outputs": [],
   "source": [
    "df = pd.merge(df, inflation_data, on=['Year', 'Country', 'Third'], how='left')\n"
   ]
  },
  {
   "cell_type": "markdown",
   "id": "58b440f5-bd84-474d-8aca-95eef41f1b10",
   "metadata": {},
   "source": [
    "## Handling of the NaN and extreme data"
   ]
  },
  {
   "cell_type": "markdown",
   "id": "396b768b-9f2e-4fb8-8a7b-0f78a858d74d",
   "metadata": {},
   "source": [
    "The variable \"Month 1\" contains around 170 000 missing values. The value 0 is immensely predominant."
   ]
  },
  {
   "cell_type": "code",
   "execution_count": 25,
   "id": "9089bf66-c2ec-4bec-9ca5-375f0d72438c",
   "metadata": {
    "tags": []
   },
   "outputs": [],
   "source": [
    "df[\"Month 1\"] = df[\"Month 1\"].fillna(0)\n"
   ]
  },
  {
   "cell_type": "markdown",
   "id": "6e16bcaf-4e1b-4765-9632-6fb8de241fbb",
   "metadata": {},
   "source": [
    "## Let's continue this in another notebook"
   ]
  },
  {
   "cell_type": "code",
   "execution_count": 26,
   "id": "c741d68d-7981-46c1-b616-3ffa6dad6b8d",
   "metadata": {
    "tags": []
   },
   "outputs": [],
   "source": [
    "df.to_csv('datasets/Merged_train_yann.csv', sep=';')"
   ]
  },
  {
   "cell_type": "code",
   "execution_count": null,
   "id": "d9cf7c20-162d-4991-98ab-39a32d42fa83",
   "metadata": {},
   "outputs": [],
   "source": [
    "#import pandas as pd\n",
    "#pd.read_csv(\"datasets/X_test_processed.csv\", delimiter=\";\").head()"
   ]
  }
 ],
 "metadata": {
  "kernelspec": {
   "display_name": "Python 3 (ipykernel)",
   "language": "python",
   "name": "python3"
  },
  "language_info": {
   "codemirror_mode": {
    "name": "ipython",
    "version": 3
   },
   "file_extension": ".py",
   "mimetype": "text/x-python",
   "name": "python",
   "nbconvert_exporter": "python",
   "pygments_lexer": "ipython3",
   "version": "3.10.12"
  }
 },
 "nbformat": 4,
 "nbformat_minor": 5
}
