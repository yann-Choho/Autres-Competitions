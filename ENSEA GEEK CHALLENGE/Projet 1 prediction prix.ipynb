{
 "cells": [
  {
   "cell_type": "code",
   "execution_count": 1,
   "id": "2bbfb9bc-a49f-49ba-a179-ccb9f62af6e6",
   "metadata": {
    "execution": {
     "iopub.execute_input": "2022-07-21T01:02:52.728832Z",
     "iopub.status.busy": "2022-07-21T01:02:52.728335Z",
     "iopub.status.idle": "2022-07-21T01:02:54.353332Z",
     "shell.execute_reply": "2022-07-21T01:02:54.351926Z",
     "shell.execute_reply.started": "2022-07-21T01:02:52.728721Z"
    },
    "tags": []
   },
   "outputs": [],
   "source": [
    "%matplotlib inline\n",
    "import pandas as pd\n",
    "import numpy as np"
   ]
  },
  {
   "cell_type": "code",
   "execution_count": 2,
   "id": "03834aa5-38b3-4a9f-8ee1-6c3db730fc64",
   "metadata": {
    "execution": {
     "iopub.execute_input": "2022-07-21T01:02:55.312229Z",
     "iopub.status.busy": "2022-07-21T01:02:55.311209Z",
     "iopub.status.idle": "2022-07-21T01:03:00.012104Z",
     "shell.execute_reply": "2022-07-21T01:03:00.010859Z",
     "shell.execute_reply.started": "2022-07-21T01:02:55.312195Z"
    },
    "tags": []
   },
   "outputs": [],
   "source": [
    "train = pd.read_csv('./train.csv')\n",
    "#Codification de la variable cible \n",
    "train['type_local'] = train['type_local'].map({'Maison':1, 'Appartement':0})\n",
    "# Ajouter le logarithm des prix à la base\n",
    "train['logprix'] = np.log(train['estimation_prix'])\n",
    "\n",
    "# Suppression de la variable estimation_prix \n",
    "train= train.drop('estimation_prix', axis=1)"
   ]
  },
  {
   "cell_type": "code",
   "execution_count": 3,
   "id": "dff69141-8cae-4fb7-b095-226a733c5c90",
   "metadata": {
    "execution": {
     "iopub.execute_input": "2022-07-21T01:03:00.015179Z",
     "iopub.status.busy": "2022-07-21T01:03:00.013819Z",
     "iopub.status.idle": "2022-07-21T01:03:00.192497Z",
     "shell.execute_reply": "2022-07-21T01:03:00.191692Z",
     "shell.execute_reply.started": "2022-07-21T01:03:00.015120Z"
    }
   },
   "outputs": [],
   "source": [
    "#Codification de la variable cible \n",
    "train['type_local'] = train['type_local'].map({'Maison':1, 'Appartement':0})\n"
   ]
  },
  {
   "cell_type": "code",
   "execution_count": 4,
   "id": "9baa8937-52b7-4b69-b2ed-acfe88aa4896",
   "metadata": {
    "execution": {
     "iopub.execute_input": "2022-07-21T01:03:00.194729Z",
     "iopub.status.busy": "2022-07-21T01:03:00.193622Z",
     "iopub.status.idle": "2022-07-21T01:03:00.519904Z",
     "shell.execute_reply": "2022-07-21T01:03:00.518930Z",
     "shell.execute_reply.started": "2022-07-21T01:03:00.194697Z"
    }
   },
   "outputs": [],
   "source": [
    "# Ajouter le logarithm des prix à la base\n",
    "train['logprix'] = np.log(train['estimation_prix'])\n",
    "\n",
    "# Suppression de la variable estimation_prix \n",
    "train= train.drop('estimation_prix', axis=1)\n"
   ]
  },
  {
   "cell_type": "code",
   "execution_count": 5,
   "id": "e5208316-729e-478d-88a0-cf2ddce7ead1",
   "metadata": {
    "execution": {
     "iopub.execute_input": "2022-07-21T01:03:10.390451Z",
     "iopub.status.busy": "2022-07-21T01:03:10.389570Z",
     "iopub.status.idle": "2022-07-21T01:03:15.859786Z",
     "shell.execute_reply": "2022-07-21T01:03:15.858302Z",
     "shell.execute_reply.started": "2022-07-21T01:03:10.390422Z"
    }
   },
   "outputs": [
    {
     "name": "stdout",
     "output_type": "stream",
     "text": [
      "Collecting lightgbm\n",
      "  Downloading lightgbm-3.3.2-py3-none-manylinux1_x86_64.whl (2.0 MB)\n",
      "\u001b[2K     \u001b[90m━━━━━━━━━━━━━━━━━━━━━━━━━━━━━━━━━━━━━━━━\u001b[0m \u001b[32m2.0/2.0 MB\u001b[0m \u001b[31m31.6 MB/s\u001b[0m eta \u001b[36m0:00:00\u001b[0ma \u001b[36m0:00:01\u001b[0m\n",
      "\u001b[?25hRequirement already satisfied: scikit-learn!=0.22.0 in /usr/local/lib/python3.9/dist-packages (from lightgbm) (1.1.1)\n",
      "Requirement already satisfied: scipy in /usr/local/lib/python3.9/dist-packages (from lightgbm) (1.8.1)\n",
      "Requirement already satisfied: wheel in /usr/local/lib/python3.9/dist-packages (from lightgbm) (0.35.1)\n",
      "Requirement already satisfied: numpy in /usr/local/lib/python3.9/dist-packages (from lightgbm) (1.23.0)\n",
      "Requirement already satisfied: joblib>=1.0.0 in /usr/local/lib/python3.9/dist-packages (from scikit-learn!=0.22.0->lightgbm) (1.1.0)\n",
      "Requirement already satisfied: threadpoolctl>=2.0.0 in /usr/local/lib/python3.9/dist-packages (from scikit-learn!=0.22.0->lightgbm) (3.1.0)\n",
      "Installing collected packages: lightgbm\n",
      "Successfully installed lightgbm-3.3.2\n",
      "\u001b[33mWARNING: Running pip as the 'root' user can result in broken permissions and conflicting behaviour with the system package manager. It is recommended to use a virtual environment instead: https://pip.pypa.io/warnings/venv\u001b[0m\u001b[33m\n",
      "\u001b[0m"
     ]
    }
   ],
   "source": [
    "from sklearn.model_selection import GridSearchCV, cross_val_score\n",
    "from sklearn.preprocessing import MinMaxScaler\n",
    "from sklearn.model_selection import train_test_split\n",
    "\n",
    "\n",
    "from sklearn.linear_model import Lasso, ElasticNet\n",
    "from sklearn.svm import SVR\n",
    "from sklearn.ensemble import ExtraTreesRegressor, VotingRegressor\n",
    "from xgboost import XGBRegressor\n",
    "!pip install lightgbm\n",
    "from lightgbm import LGBMRegressor\n",
    "from sklearn.neural_network import MLPRegressor\n",
    "from sklearn.ensemble import AdaBoostRegressor\n",
    "from sklearn.ensemble import RandomForestRegressor\n",
    "from sklearn.neighbors import KNeighborsRegressor\n"
   ]
  },
  {
   "cell_type": "code",
   "execution_count": 6,
   "id": "fbae56bb-500e-433c-b008-e29badb630da",
   "metadata": {
    "execution": {
     "iopub.execute_input": "2022-07-21T01:03:15.863341Z",
     "iopub.status.busy": "2022-07-21T01:03:15.862293Z",
     "iopub.status.idle": "2022-07-21T01:03:15.869942Z",
     "shell.execute_reply": "2022-07-21T01:03:15.868260Z",
     "shell.execute_reply.started": "2022-07-21T01:03:15.863298Z"
    }
   },
   "outputs": [],
   "source": [
    "TGT = 'logprix'\n",
    "FE = ['adresse_code_voie','code_postal', 'nom_commune', 'code_commune', 'type_local','surface_reelle_bati', 'surface_terrain', \n",
    "      'nombre_pieces_principales','longitude', 'latitude', 'departement', 'year']"
   ]
  },
  {
   "cell_type": "code",
   "execution_count": 8,
   "id": "c7b53c20-f4c4-46a8-b589-6ff644116d29",
   "metadata": {
    "execution": {
     "iopub.execute_input": "2022-07-21T01:03:25.109500Z",
     "iopub.status.busy": "2022-07-21T01:03:25.108965Z",
     "iopub.status.idle": "2022-07-21T01:03:26.954761Z",
     "shell.execute_reply": "2022-07-21T01:03:26.952798Z",
     "shell.execute_reply.started": "2022-07-21T01:03:25.109462Z"
    }
   },
   "outputs": [],
   "source": [
    "x_train, x_test, y_train, y_test=train_test_split(train[FE], train[TGT],stratify=train['type_local'],test_size=0.2, random_state=42)"
   ]
  },
  {
   "cell_type": "code",
   "execution_count": 9,
   "id": "456bff89-ae03-4c07-a1ee-680825a6f7fb",
   "metadata": {
    "execution": {
     "iopub.execute_input": "2022-07-21T01:03:26.957541Z",
     "iopub.status.busy": "2022-07-21T01:03:26.957187Z",
     "iopub.status.idle": "2022-07-21T01:03:27.368810Z",
     "shell.execute_reply": "2022-07-21T01:03:27.367309Z",
     "shell.execute_reply.started": "2022-07-21T01:03:26.957514Z"
    }
   },
   "outputs": [],
   "source": [
    "# variable cible\n",
    "labels=y_train\n",
    "# variable d'entraînement\n",
    "X = x_train\n",
    "# Normalisation des variables d'entraînement\n",
    "scalar = MinMaxScaler()\n",
    "X_scaled = scalar.fit_transform(X)"
   ]
  },
  {
   "cell_type": "code",
   "execution_count": 10,
   "id": "1ac41d6a-1792-4e13-8644-53d58211a83d",
   "metadata": {
    "execution": {
     "iopub.execute_input": "2022-07-21T01:03:27.371843Z",
     "iopub.status.busy": "2022-07-21T01:03:27.371367Z",
     "iopub.status.idle": "2022-07-21T01:03:27.378689Z",
     "shell.execute_reply": "2022-07-21T01:03:27.377000Z",
     "shell.execute_reply.started": "2022-07-21T01:03:27.371800Z"
    }
   },
   "outputs": [],
   "source": [
    "def cross_validation(model, X, y):\n",
    "    \"Check model with cross validation\"\n",
    "    score = cross_val_score(model, X, y, cv=5, scoring='neg_mean_absolute_percentage_error')\n",
    "    cross_score = (-score)\n",
    "    return round(100*np.mean(cross_score), 4)"
   ]
  },
  {
   "cell_type": "markdown",
   "id": "bf6e99e9-28a8-4dc7-869a-8aefc70fdf63",
   "metadata": {},
   "source": [
    "Après consultation de la litterature on plusieurs test on a retenu les modèles ci-dessous a essayer"
   ]
  },
  {
   "cell_type": "code",
   "execution_count": 11,
   "id": "6d8788c5-001b-4882-81f3-1911137c9207",
   "metadata": {
    "execution": {
     "iopub.execute_input": "2022-07-21T01:03:31.263881Z",
     "iopub.status.busy": "2022-07-21T01:03:31.262573Z",
     "iopub.status.idle": "2022-07-21T01:03:31.271021Z",
     "shell.execute_reply": "2022-07-21T01:03:31.269322Z",
     "shell.execute_reply.started": "2022-07-21T01:03:31.263835Z"
    }
   },
   "outputs": [],
   "source": [
    "#liste des modèles\n",
    "lasso_model = Lasso()\n",
    "elastic_model = ElasticNet()\n",
    "xgb_model = XGBRegressor()\n",
    "lgbm_model=LGBMRegressor()\n",
    "mlp_model=MLPRegressor()\n",
    "rf_model=RandomForestRegressor()"
   ]
  },
  {
   "cell_type": "markdown",
   "id": "872f04e2-9c8c-4304-8f96-29b2dec8a2d6",
   "metadata": {},
   "source": [
    "LightGBM"
   ]
  },
  {
   "cell_type": "code",
   "execution_count": 15,
   "id": "98402db5-d4e3-4e61-9a07-b686e7252e53",
   "metadata": {
    "execution": {
     "iopub.execute_input": "2022-07-20T14:48:51.478761Z",
     "iopub.status.busy": "2022-07-20T14:48:51.478500Z",
     "iopub.status.idle": "2022-07-20T22:05:07.528252Z",
     "shell.execute_reply": "2022-07-20T22:05:07.524118Z",
     "shell.execute_reply.started": "2022-07-20T21:58:39.372012Z"
    }
   },
   "outputs": [
    {
     "name": "stdout",
     "output_type": "stream",
     "text": [
      "MAPE :  2.0967\n"
     ]
    }
   ],
   "source": [
    "# Verification des modèles avec la cross-validation\n",
    "cv_lgbm_evl= cross_validation(lgbm_model, X_scaled, labels)\n",
    "print(\"MAPE : \",cv_lgbm_evl)"
   ]
  },
  {
   "cell_type": "markdown",
   "id": "9ea0a68d-aec4-46aa-b156-bb5d3550ab00",
   "metadata": {},
   "source": [
    "Lasso"
   ]
  },
  {
   "cell_type": "code",
   "execution_count": 12,
   "id": "c4f11bee-7d27-4276-90f7-f689daafb32e",
   "metadata": {
    "execution": {
     "iopub.execute_input": "2022-07-20T14:49:29.432478Z",
     "iopub.status.busy": "2022-07-20T14:49:29.432035Z",
     "iopub.status.idle": "2022-07-20T14:49:32.340691Z",
     "shell.execute_reply": "2022-07-20T14:49:32.335779Z",
     "shell.execute_reply.started": "2022-07-20T14:49:29.432440Z"
    }
   },
   "outputs": [
    {
     "name": "stdout",
     "output_type": "stream",
     "text": [
      "MAPE :  3.7935\n"
     ]
    }
   ],
   "source": [
    "# Verification des modèles avec la cross-validation\n",
    "cv_lgbm_evl= cross_validation(lasso_model, X_scaled, labels)\n",
    "print(\"MAPE : \",cv_lgbm_evl)"
   ]
  },
  {
   "cell_type": "markdown",
   "id": "a8d93d75-3a6e-46a3-bb92-0761e9ab543c",
   "metadata": {},
   "source": [
    "ElasticNet"
   ]
  },
  {
   "cell_type": "code",
   "execution_count": 13,
   "id": "7568ba7f-d595-48cd-be07-a0bfa1914f2d",
   "metadata": {
    "execution": {
     "iopub.execute_input": "2022-07-20T14:49:32.342391Z",
     "iopub.status.busy": "2022-07-20T14:49:32.342005Z",
     "iopub.status.idle": "2022-07-20T14:49:35.211614Z",
     "shell.execute_reply": "2022-07-20T14:49:35.206257Z",
     "shell.execute_reply.started": "2022-07-20T14:49:32.342349Z"
    }
   },
   "outputs": [
    {
     "name": "stdout",
     "output_type": "stream",
     "text": [
      "MAPE :  3.7935\n"
     ]
    }
   ],
   "source": [
    "# Verification des modèles avec la cross-validation\n",
    "cv_lgbm_evl= cross_validation(elastic_model, X_scaled, labels)\n",
    "print(\"MAPE : \",cv_lgbm_evl)"
   ]
  },
  {
   "cell_type": "markdown",
   "id": "ad7bde97-6314-4ae4-8b39-1ddb12f1409a",
   "metadata": {},
   "source": [
    "XGBoost"
   ]
  },
  {
   "cell_type": "code",
   "execution_count": 15,
   "id": "f516a459-013a-4a14-9964-abb236d9d047",
   "metadata": {
    "execution": {
     "iopub.execute_input": "2022-07-20T14:49:57.448051Z",
     "iopub.status.busy": "2022-07-20T14:49:57.447657Z",
     "iopub.status.idle": "2022-07-20T14:58:31.921716Z",
     "shell.execute_reply": "2022-07-20T14:58:31.920794Z",
     "shell.execute_reply.started": "2022-07-20T14:49:57.448008Z"
    }
   },
   "outputs": [
    {
     "name": "stdout",
     "output_type": "stream",
     "text": [
      "MAPE :  2.0189\n"
     ]
    }
   ],
   "source": [
    "# Verification des modèles avec la cross-validation\n",
    "cv_xgb_evl= cross_validation(xgb_model, X_scaled, labels)\n",
    "print(\"MAPE : \",cv_xgb_evl)"
   ]
  },
  {
   "cell_type": "markdown",
   "id": "3729cdee-c9bb-4849-b7bf-824058800757",
   "metadata": {},
   "source": [
    "AdaBoost"
   ]
  },
  {
   "cell_type": "markdown",
   "id": "8328f122-0498-4e52-a371-3da55e1286d7",
   "metadata": {},
   "source": [
    "RandomForest"
   ]
  },
  {
   "cell_type": "code",
   "execution_count": null,
   "id": "36935ef2-93fc-4ae6-8e4c-b5685b02839a",
   "metadata": {
    "execution": {
     "iopub.execute_input": "2022-07-20T20:11:22.410344Z",
     "iopub.status.busy": "2022-07-20T20:11:22.409334Z"
    }
   },
   "outputs": [],
   "source": [
    "# Verification des modèles avec la cross-validation\n",
    "cv_lgbm_evl= cross_validation(rf_model, X_scaled, labels)\n",
    "print(\"MAPE : \",cv_lgbm_evl)"
   ]
  },
  {
   "cell_type": "markdown",
   "id": "8b785ce1-d7ca-4182-8fb8-9932b0ed6810",
   "metadata": {},
   "source": [
    "**Observation**\n",
    "\n",
    "On constate que l'erreur absolue moyen en pourcentage est assez élevé pour chacun de ces derniers modèles.(Les valeurs des sont petites  car on cible le log des prix et non les prix)\n",
    "Il est apparaît necessaire de combiner la force de plusieurs modèle pour réduire le MAPE qui est la métriqiue ciblé.Par exemple en faisant un stacking ou un voting des meilleures modèles tout en optimisant leurs paramètres.\n"
   ]
  },
  {
   "cell_type": "markdown",
   "id": "7b9b2b7f-02d5-4ecf-9246-1d47c7c6b8c1",
   "metadata": {},
   "source": [
    "**DETECTION DES MEILLEURS MODELES ET OPTIMISATION**\n",
    "\n",
    "On constate que les modèles suivants sont les plus adaptés : **LightGBM, XGBoost, et Randomforest**.\n",
    "\n",
    "**Optimisation**\n",
    "Les hyperparametres de ces trois modèles ont été optimer grâce à gridsearch importaé plus haut.\n",
    "\n",
    "\n",
    "\n",
    "**LGBMRegressor**: colsample_by_tree=0.8, learning_rate=0.12, max_depth=4,min_split_gain=0.3,num_leaves=20,reg_alpha=1.1,subsample=0.8,subsample_freq=20\n",
    "\n",
    "**RandomForestRegressor**: Les meilleurs paramètres d'après notre espace de reherche ne sont que les parametres par défaut\n",
    "\n",
    "**XGBRegressor**:learning_rate=0.1, num_leaves=0.3"
   ]
  },
  {
   "cell_type": "markdown",
   "id": "efabf95c-ab26-4098-9dc6-cfbc3b61a899",
   "metadata": {},
   "source": [
    "**Modèle final**\n",
    "\n",
    "Executons un voting des trois meilleures modèles optimisés"
   ]
  },
  {
   "cell_type": "code",
   "execution_count": null,
   "id": "4df1e011-fc7e-4b18-a938-f7b88bb58d1e",
   "metadata": {
    "execution": {
     "iopub.execute_input": "2022-07-21T01:03:38.727948Z",
     "iopub.status.busy": "2022-07-21T01:03:38.726630Z"
    }
   },
   "outputs": [
    {
     "name": "stdout",
     "output_type": "stream",
     "text": [
      "[LightGBM] [Warning] Unknown parameter: colsample_by_tree\n"
     ]
    }
   ],
   "source": [
    "from sklearn.ensemble import VotingRegressor\n",
    "\n",
    "voting_reg = VotingRegressor(estimators=[('lgbm', LGBMRegressor(colsample_by_tree=0.8, learning_rate=0.12, max_depth=4,min_split_gain=0.3,num_leaves=20,reg_alpha=1.1,subsample=0.8,subsample_freq=20)), ('rf', RandomForestRegressor()), \n",
    "                                         ('bg',XGBRegressor(learning_rate=0.1, num_leaves=0.3))])\n",
    "voting_reg.fit(x_train, y_train)\n",
    "\n",
    "predictions_voting_reg = voting_reg.predict(x_test)\n",
    "MAPE(y_test,predictions_voting_reg)"
   ]
  },
  {
   "cell_type": "code",
   "execution_count": null,
   "id": "98dfa69c-3e8d-4c7f-91df-7ada8b22cf3a",
   "metadata": {},
   "outputs": [],
   "source": [
    "MAPE(np.exp(y_test),np.exp(predictions_voting_reg))"
   ]
  },
  {
   "cell_type": "code",
   "execution_count": null,
   "id": "bd91eb6e-baa7-4edc-8f88-d0a382601625",
   "metadata": {},
   "outputs": [],
   "source": []
  },
  {
   "cell_type": "markdown",
   "id": "a1fda09b-74c5-48bb-9965-ce14fb015327",
   "metadata": {},
   "source": [
    "**Prédiction**"
   ]
  },
  {
   "cell_type": "code",
   "execution_count": null,
   "id": "78356ea0-6a9c-455f-90fc-b40e00793300",
   "metadata": {},
   "outputs": [],
   "source": [
    "test = pd.read_csv('./test.csv')\n",
    "#Codification de la variable cible \n",
    "test['type_local'] = test['type_local'].map({'Maison':1, 'Appartement':0})\n",
    "# Ajouter le logarithm des prix à la base\n",
    "test['logprix'] = np.log(test['estimation_prix'])\n",
    "# Suppression de la variable estimation_prix \n",
    "test= test.drop('estimation_prix', axis=1)"
   ]
  },
  {
   "cell_type": "code",
   "execution_count": null,
   "id": "182fedf4-2e33-434c-a71d-03f80effb40a",
   "metadata": {},
   "outputs": [],
   "source": [
    "pred=voting_reg.predict(test)"
   ]
  },
  {
   "cell_type": "code",
   "execution_count": null,
   "id": "42113edb-0e4a-4bcd-9f28-79bed4bc9fa0",
   "metadata": {},
   "outputs": [],
   "source": [
    "test[\"estimatipn_prix\"] = pred\n",
    "test.head()"
   ]
  },
  {
   "cell_type": "code",
   "execution_count": null,
   "id": "84ab51bf-e44e-4327-af62-82396ce7956c",
   "metadata": {},
   "outputs": [],
   "source": [
    "test[['id', 'prediction']].to_csv(\"submission.csv\", index=False)"
   ]
  }
 ],
 "metadata": {
  "kernelspec": {
   "display_name": "Python 3 (ipykernel)",
   "language": "python",
   "name": "python3"
  },
  "language_info": {
   "codemirror_mode": {
    "name": "ipython",
    "version": 3
   },
   "file_extension": ".py",
   "mimetype": "text/x-python",
   "name": "python",
   "nbconvert_exporter": "python",
   "pygments_lexer": "ipython3",
   "version": "3.9.13"
  }
 },
 "nbformat": 4,
 "nbformat_minor": 5
}
